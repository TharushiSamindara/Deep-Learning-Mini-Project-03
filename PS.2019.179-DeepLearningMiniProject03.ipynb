{
  "nbformat": 4,
  "nbformat_minor": 0,
  "metadata": {
    "colab": {
      "provenance": []
    },
    "kernelspec": {
      "name": "python3",
      "display_name": "Python 3"
    },
    "language_info": {
      "name": "python"
    }
  },
  "cells": [
    {
      "cell_type": "code",
      "execution_count": 1,
      "metadata": {
        "id": "HlBtRw65wX7K"
      },
      "outputs": [],
      "source": [
        "import numpy as np\n",
        "import pandas as pd\n",
        "from sklearn.model_selection import train_test_split\n",
        "from keras.preprocessing.text import Tokenizer\n",
        "from keras.preprocessing.sequence import pad_sequences\n",
        "from keras.models import Model\n",
        "from keras.layers import Input, Embedding, Dense, Masking\n",
        "from keras.layers import Attention, LayerNormalization, Dropout\n",
        "from keras.optimizers import Adam\n",
        "import os\n",
        "import tensorflow as tf\n"
      ]
    },
    {
      "cell_type": "code",
      "source": [
        "from google.colab import drive\n",
        "drive.mount('/content/drive')"
      ],
      "metadata": {
        "colab": {
          "base_uri": "https://localhost:8080/"
        },
        "id": "oepeBCl8wgFh",
        "outputId": "3dbfcf51-cb03-413f-f6f0-9e1eda62bc9e"
      },
      "execution_count": 3,
      "outputs": [
        {
          "output_type": "stream",
          "name": "stdout",
          "text": [
            "Mounted at /content/drive\n"
          ]
        }
      ]
    },
    {
      "cell_type": "code",
      "source": [
        "import pandas as pd\n",
        "\n",
        "# Read the Parquet file from Google Drive\n",
        "parquet_path = \"/content/drive/My Drive/dataset.parquet\"\n",
        "df = pd.read_parquet(parquet_path)\n",
        "\n",
        "# Save as CSV\n",
        "csv_output_path = \"/content/drive/My Drive/Sinhala_english.csv\"\n",
        "df.to_csv(csv_output_path, index=False)"
      ],
      "metadata": {
        "id": "_17hLsIv2c4F"
      },
      "execution_count": 4,
      "outputs": []
    },
    {
      "cell_type": "code",
      "source": [
        "os.chdir(\"/content/drive/My Drive/Colab_Notebooks/\")\n",
        "os.getcwd()"
      ],
      "metadata": {
        "colab": {
          "base_uri": "https://localhost:8080/",
          "height": 35
        },
        "id": "YKB54i6owhJJ",
        "outputId": "085c042d-662d-40bb-bc0a-1c074f7ea20b"
      },
      "execution_count": 5,
      "outputs": [
        {
          "output_type": "execute_result",
          "data": {
            "text/plain": [
              "'/content/drive/My Drive/Colab_Notebooks'"
            ],
            "application/vnd.google.colaboratory.intrinsic+json": {
              "type": "string"
            }
          },
          "metadata": {},
          "execution_count": 5
        }
      ]
    },
    {
      "cell_type": "code",
      "source": [
        "df=pd.read_csv('output.csv')"
      ],
      "metadata": {
        "id": "YUDlelGYwl-f"
      },
      "execution_count": 6,
      "outputs": []
    },
    {
      "cell_type": "code",
      "source": [
        "df"
      ],
      "metadata": {
        "colab": {
          "base_uri": "https://localhost:8080/",
          "height": 424
        },
        "id": "WzRWFxYGwpJR",
        "outputId": "0862f364-6bd3-4c55-fcbb-c6cdde334b2b"
      },
      "execution_count": 7,
      "outputs": [
        {
          "output_type": "execute_result",
          "data": {
            "text/plain": [
              "                                               english  \\\n",
              "0                     thank you for your understanding   \n",
              "1               There's not much time left for me now.   \n",
              "2                   I have been diagnosed with cancer.   \n",
              "3                    An unsolved case from a year ago.   \n",
              "4                                       Okay? Come on.   \n",
              "..                                                 ...   \n",
              "130                                 are you crazy man?   \n",
              "131  Good product, Have a very good quality, 100% G...   \n",
              "132                                 how to create drum   \n",
              "133                                   i'm ready,always   \n",
              "134                                                NaN   \n",
              "\n",
              "                                               sinhala  \n",
              "0                               තේරුම් ගත්තාට ස්තූතියි  \n",
              "1                  මට දැන් වැඩි වෙලාවක් ඉතිරි වෙලා නෑ.  \n",
              "2                         මට පිළිකාවක් හැදිලා තියෙනවා.  \n",
              "3               අවුරුද්දකට කලින් විසඳපු නැති කේස් එකක්  \n",
              "4                                         හරි ? කමෝන්.  \n",
              "..                                                 ...  \n",
              "130                         ඔහෙට පිස්සු හැදිලද මිනිහෝ?  \n",
              "131  හොඳ නිෂ්පාදනයක්, ගොඩක් හොඳ ගුණාත්මක බවක් තියෙන...  \n",
              "132                               බෙරයක් හදන්නේ කොහොමද  \n",
              "133                            මම හැමතිස්සේම ලෑස්තියි   \n",
              "134                                                NaN  \n",
              "\n",
              "[135 rows x 2 columns]"
            ],
            "text/html": [
              "\n",
              "  <div id=\"df-5b4fdfaa-c2cb-4d62-abbe-9aa63f54502e\" class=\"colab-df-container\">\n",
              "    <div>\n",
              "<style scoped>\n",
              "    .dataframe tbody tr th:only-of-type {\n",
              "        vertical-align: middle;\n",
              "    }\n",
              "\n",
              "    .dataframe tbody tr th {\n",
              "        vertical-align: top;\n",
              "    }\n",
              "\n",
              "    .dataframe thead th {\n",
              "        text-align: right;\n",
              "    }\n",
              "</style>\n",
              "<table border=\"1\" class=\"dataframe\">\n",
              "  <thead>\n",
              "    <tr style=\"text-align: right;\">\n",
              "      <th></th>\n",
              "      <th>english</th>\n",
              "      <th>sinhala</th>\n",
              "    </tr>\n",
              "  </thead>\n",
              "  <tbody>\n",
              "    <tr>\n",
              "      <th>0</th>\n",
              "      <td>thank you for your understanding</td>\n",
              "      <td>තේරුම් ගත්තාට ස්තූතියි</td>\n",
              "    </tr>\n",
              "    <tr>\n",
              "      <th>1</th>\n",
              "      <td>There's not much time left for me now.</td>\n",
              "      <td>මට දැන් වැඩි වෙලාවක් ඉතිරි වෙලා නෑ.</td>\n",
              "    </tr>\n",
              "    <tr>\n",
              "      <th>2</th>\n",
              "      <td>I have been diagnosed with cancer.</td>\n",
              "      <td>මට පිළිකාවක් හැදිලා තියෙනවා.</td>\n",
              "    </tr>\n",
              "    <tr>\n",
              "      <th>3</th>\n",
              "      <td>An unsolved case from a year ago.</td>\n",
              "      <td>අවුරුද්දකට කලින් විසඳපු නැති කේස් එකක්</td>\n",
              "    </tr>\n",
              "    <tr>\n",
              "      <th>4</th>\n",
              "      <td>Okay? Come on.</td>\n",
              "      <td>හරි ? කමෝන්.</td>\n",
              "    </tr>\n",
              "    <tr>\n",
              "      <th>...</th>\n",
              "      <td>...</td>\n",
              "      <td>...</td>\n",
              "    </tr>\n",
              "    <tr>\n",
              "      <th>130</th>\n",
              "      <td>are you crazy man?</td>\n",
              "      <td>ඔහෙට පිස්සු හැදිලද මිනිහෝ?</td>\n",
              "    </tr>\n",
              "    <tr>\n",
              "      <th>131</th>\n",
              "      <td>Good product, Have a very good quality, 100% G...</td>\n",
              "      <td>හොඳ නිෂ්පාදනයක්, ගොඩක් හොඳ ගුණාත්මක බවක් තියෙන...</td>\n",
              "    </tr>\n",
              "    <tr>\n",
              "      <th>132</th>\n",
              "      <td>how to create drum</td>\n",
              "      <td>බෙරයක් හදන්නේ කොහොමද</td>\n",
              "    </tr>\n",
              "    <tr>\n",
              "      <th>133</th>\n",
              "      <td>i'm ready,always</td>\n",
              "      <td>මම හැමතිස්සේම ලෑස්තියි</td>\n",
              "    </tr>\n",
              "    <tr>\n",
              "      <th>134</th>\n",
              "      <td>NaN</td>\n",
              "      <td>NaN</td>\n",
              "    </tr>\n",
              "  </tbody>\n",
              "</table>\n",
              "<p>135 rows × 2 columns</p>\n",
              "</div>\n",
              "    <div class=\"colab-df-buttons\">\n",
              "\n",
              "  <div class=\"colab-df-container\">\n",
              "    <button class=\"colab-df-convert\" onclick=\"convertToInteractive('df-5b4fdfaa-c2cb-4d62-abbe-9aa63f54502e')\"\n",
              "            title=\"Convert this dataframe to an interactive table.\"\n",
              "            style=\"display:none;\">\n",
              "\n",
              "  <svg xmlns=\"http://www.w3.org/2000/svg\" height=\"24px\" viewBox=\"0 -960 960 960\">\n",
              "    <path d=\"M120-120v-720h720v720H120Zm60-500h600v-160H180v160Zm220 220h160v-160H400v160Zm0 220h160v-160H400v160ZM180-400h160v-160H180v160Zm440 0h160v-160H620v160ZM180-180h160v-160H180v160Zm440 0h160v-160H620v160Z\"/>\n",
              "  </svg>\n",
              "    </button>\n",
              "\n",
              "  <style>\n",
              "    .colab-df-container {\n",
              "      display:flex;\n",
              "      gap: 12px;\n",
              "    }\n",
              "\n",
              "    .colab-df-convert {\n",
              "      background-color: #E8F0FE;\n",
              "      border: none;\n",
              "      border-radius: 50%;\n",
              "      cursor: pointer;\n",
              "      display: none;\n",
              "      fill: #1967D2;\n",
              "      height: 32px;\n",
              "      padding: 0 0 0 0;\n",
              "      width: 32px;\n",
              "    }\n",
              "\n",
              "    .colab-df-convert:hover {\n",
              "      background-color: #E2EBFA;\n",
              "      box-shadow: 0px 1px 2px rgba(60, 64, 67, 0.3), 0px 1px 3px 1px rgba(60, 64, 67, 0.15);\n",
              "      fill: #174EA6;\n",
              "    }\n",
              "\n",
              "    .colab-df-buttons div {\n",
              "      margin-bottom: 4px;\n",
              "    }\n",
              "\n",
              "    [theme=dark] .colab-df-convert {\n",
              "      background-color: #3B4455;\n",
              "      fill: #D2E3FC;\n",
              "    }\n",
              "\n",
              "    [theme=dark] .colab-df-convert:hover {\n",
              "      background-color: #434B5C;\n",
              "      box-shadow: 0px 1px 3px 1px rgba(0, 0, 0, 0.15);\n",
              "      filter: drop-shadow(0px 1px 2px rgba(0, 0, 0, 0.3));\n",
              "      fill: #FFFFFF;\n",
              "    }\n",
              "  </style>\n",
              "\n",
              "    <script>\n",
              "      const buttonEl =\n",
              "        document.querySelector('#df-5b4fdfaa-c2cb-4d62-abbe-9aa63f54502e button.colab-df-convert');\n",
              "      buttonEl.style.display =\n",
              "        google.colab.kernel.accessAllowed ? 'block' : 'none';\n",
              "\n",
              "      async function convertToInteractive(key) {\n",
              "        const element = document.querySelector('#df-5b4fdfaa-c2cb-4d62-abbe-9aa63f54502e');\n",
              "        const dataTable =\n",
              "          await google.colab.kernel.invokeFunction('convertToInteractive',\n",
              "                                                    [key], {});\n",
              "        if (!dataTable) return;\n",
              "\n",
              "        const docLinkHtml = 'Like what you see? Visit the ' +\n",
              "          '<a target=\"_blank\" href=https://colab.research.google.com/notebooks/data_table.ipynb>data table notebook</a>'\n",
              "          + ' to learn more about interactive tables.';\n",
              "        element.innerHTML = '';\n",
              "        dataTable['output_type'] = 'display_data';\n",
              "        await google.colab.output.renderOutput(dataTable, element);\n",
              "        const docLink = document.createElement('div');\n",
              "        docLink.innerHTML = docLinkHtml;\n",
              "        element.appendChild(docLink);\n",
              "      }\n",
              "    </script>\n",
              "  </div>\n",
              "\n",
              "\n",
              "<div id=\"df-605f5610-08d7-441a-89d2-e1d067dd46b5\">\n",
              "  <button class=\"colab-df-quickchart\" onclick=\"quickchart('df-605f5610-08d7-441a-89d2-e1d067dd46b5')\"\n",
              "            title=\"Suggest charts\"\n",
              "            style=\"display:none;\">\n",
              "\n",
              "<svg xmlns=\"http://www.w3.org/2000/svg\" height=\"24px\"viewBox=\"0 0 24 24\"\n",
              "     width=\"24px\">\n",
              "    <g>\n",
              "        <path d=\"M19 3H5c-1.1 0-2 .9-2 2v14c0 1.1.9 2 2 2h14c1.1 0 2-.9 2-2V5c0-1.1-.9-2-2-2zM9 17H7v-7h2v7zm4 0h-2V7h2v10zm4 0h-2v-4h2v4z\"/>\n",
              "    </g>\n",
              "</svg>\n",
              "  </button>\n",
              "\n",
              "<style>\n",
              "  .colab-df-quickchart {\n",
              "      --bg-color: #E8F0FE;\n",
              "      --fill-color: #1967D2;\n",
              "      --hover-bg-color: #E2EBFA;\n",
              "      --hover-fill-color: #174EA6;\n",
              "      --disabled-fill-color: #AAA;\n",
              "      --disabled-bg-color: #DDD;\n",
              "  }\n",
              "\n",
              "  [theme=dark] .colab-df-quickchart {\n",
              "      --bg-color: #3B4455;\n",
              "      --fill-color: #D2E3FC;\n",
              "      --hover-bg-color: #434B5C;\n",
              "      --hover-fill-color: #FFFFFF;\n",
              "      --disabled-bg-color: #3B4455;\n",
              "      --disabled-fill-color: #666;\n",
              "  }\n",
              "\n",
              "  .colab-df-quickchart {\n",
              "    background-color: var(--bg-color);\n",
              "    border: none;\n",
              "    border-radius: 50%;\n",
              "    cursor: pointer;\n",
              "    display: none;\n",
              "    fill: var(--fill-color);\n",
              "    height: 32px;\n",
              "    padding: 0;\n",
              "    width: 32px;\n",
              "  }\n",
              "\n",
              "  .colab-df-quickchart:hover {\n",
              "    background-color: var(--hover-bg-color);\n",
              "    box-shadow: 0 1px 2px rgba(60, 64, 67, 0.3), 0 1px 3px 1px rgba(60, 64, 67, 0.15);\n",
              "    fill: var(--button-hover-fill-color);\n",
              "  }\n",
              "\n",
              "  .colab-df-quickchart-complete:disabled,\n",
              "  .colab-df-quickchart-complete:disabled:hover {\n",
              "    background-color: var(--disabled-bg-color);\n",
              "    fill: var(--disabled-fill-color);\n",
              "    box-shadow: none;\n",
              "  }\n",
              "\n",
              "  .colab-df-spinner {\n",
              "    border: 2px solid var(--fill-color);\n",
              "    border-color: transparent;\n",
              "    border-bottom-color: var(--fill-color);\n",
              "    animation:\n",
              "      spin 1s steps(1) infinite;\n",
              "  }\n",
              "\n",
              "  @keyframes spin {\n",
              "    0% {\n",
              "      border-color: transparent;\n",
              "      border-bottom-color: var(--fill-color);\n",
              "      border-left-color: var(--fill-color);\n",
              "    }\n",
              "    20% {\n",
              "      border-color: transparent;\n",
              "      border-left-color: var(--fill-color);\n",
              "      border-top-color: var(--fill-color);\n",
              "    }\n",
              "    30% {\n",
              "      border-color: transparent;\n",
              "      border-left-color: var(--fill-color);\n",
              "      border-top-color: var(--fill-color);\n",
              "      border-right-color: var(--fill-color);\n",
              "    }\n",
              "    40% {\n",
              "      border-color: transparent;\n",
              "      border-right-color: var(--fill-color);\n",
              "      border-top-color: var(--fill-color);\n",
              "    }\n",
              "    60% {\n",
              "      border-color: transparent;\n",
              "      border-right-color: var(--fill-color);\n",
              "    }\n",
              "    80% {\n",
              "      border-color: transparent;\n",
              "      border-right-color: var(--fill-color);\n",
              "      border-bottom-color: var(--fill-color);\n",
              "    }\n",
              "    90% {\n",
              "      border-color: transparent;\n",
              "      border-bottom-color: var(--fill-color);\n",
              "    }\n",
              "  }\n",
              "</style>\n",
              "\n",
              "  <script>\n",
              "    async function quickchart(key) {\n",
              "      const quickchartButtonEl =\n",
              "        document.querySelector('#' + key + ' button');\n",
              "      quickchartButtonEl.disabled = true;  // To prevent multiple clicks.\n",
              "      quickchartButtonEl.classList.add('colab-df-spinner');\n",
              "      try {\n",
              "        const charts = await google.colab.kernel.invokeFunction(\n",
              "            'suggestCharts', [key], {});\n",
              "      } catch (error) {\n",
              "        console.error('Error during call to suggestCharts:', error);\n",
              "      }\n",
              "      quickchartButtonEl.classList.remove('colab-df-spinner');\n",
              "      quickchartButtonEl.classList.add('colab-df-quickchart-complete');\n",
              "    }\n",
              "    (() => {\n",
              "      let quickchartButtonEl =\n",
              "        document.querySelector('#df-605f5610-08d7-441a-89d2-e1d067dd46b5 button');\n",
              "      quickchartButtonEl.style.display =\n",
              "        google.colab.kernel.accessAllowed ? 'block' : 'none';\n",
              "    })();\n",
              "  </script>\n",
              "</div>\n",
              "\n",
              "  <div id=\"id_8ba06b1c-c5b6-4384-89dc-5e74c4d4e895\">\n",
              "    <style>\n",
              "      .colab-df-generate {\n",
              "        background-color: #E8F0FE;\n",
              "        border: none;\n",
              "        border-radius: 50%;\n",
              "        cursor: pointer;\n",
              "        display: none;\n",
              "        fill: #1967D2;\n",
              "        height: 32px;\n",
              "        padding: 0 0 0 0;\n",
              "        width: 32px;\n",
              "      }\n",
              "\n",
              "      .colab-df-generate:hover {\n",
              "        background-color: #E2EBFA;\n",
              "        box-shadow: 0px 1px 2px rgba(60, 64, 67, 0.3), 0px 1px 3px 1px rgba(60, 64, 67, 0.15);\n",
              "        fill: #174EA6;\n",
              "      }\n",
              "\n",
              "      [theme=dark] .colab-df-generate {\n",
              "        background-color: #3B4455;\n",
              "        fill: #D2E3FC;\n",
              "      }\n",
              "\n",
              "      [theme=dark] .colab-df-generate:hover {\n",
              "        background-color: #434B5C;\n",
              "        box-shadow: 0px 1px 3px 1px rgba(0, 0, 0, 0.15);\n",
              "        filter: drop-shadow(0px 1px 2px rgba(0, 0, 0, 0.3));\n",
              "        fill: #FFFFFF;\n",
              "      }\n",
              "    </style>\n",
              "    <button class=\"colab-df-generate\" onclick=\"generateWithVariable('df')\"\n",
              "            title=\"Generate code using this dataframe.\"\n",
              "            style=\"display:none;\">\n",
              "\n",
              "  <svg xmlns=\"http://www.w3.org/2000/svg\" height=\"24px\"viewBox=\"0 0 24 24\"\n",
              "       width=\"24px\">\n",
              "    <path d=\"M7,19H8.4L18.45,9,17,7.55,7,17.6ZM5,21V16.75L18.45,3.32a2,2,0,0,1,2.83,0l1.4,1.43a1.91,1.91,0,0,1,.58,1.4,1.91,1.91,0,0,1-.58,1.4L9.25,21ZM18.45,9,17,7.55Zm-12,3A5.31,5.31,0,0,0,4.9,8.1,5.31,5.31,0,0,0,1,6.5,5.31,5.31,0,0,0,4.9,4.9,5.31,5.31,0,0,0,6.5,1,5.31,5.31,0,0,0,8.1,4.9,5.31,5.31,0,0,0,12,6.5,5.46,5.46,0,0,0,6.5,12Z\"/>\n",
              "  </svg>\n",
              "    </button>\n",
              "    <script>\n",
              "      (() => {\n",
              "      const buttonEl =\n",
              "        document.querySelector('#id_8ba06b1c-c5b6-4384-89dc-5e74c4d4e895 button.colab-df-generate');\n",
              "      buttonEl.style.display =\n",
              "        google.colab.kernel.accessAllowed ? 'block' : 'none';\n",
              "\n",
              "      buttonEl.onclick = () => {\n",
              "        google.colab.notebook.generateWithVariable('df');\n",
              "      }\n",
              "      })();\n",
              "    </script>\n",
              "  </div>\n",
              "\n",
              "    </div>\n",
              "  </div>\n"
            ],
            "application/vnd.google.colaboratory.intrinsic+json": {
              "type": "dataframe",
              "variable_name": "df",
              "summary": "{\n  \"name\": \"df\",\n  \"rows\": 135,\n  \"fields\": [\n    {\n      \"column\": \"english\",\n      \"properties\": {\n        \"dtype\": \"string\",\n        \"num_unique_values\": 118,\n        \"samples\": [\n          \"We can't be sure at the moment.\",\n          \"Here are some other common Sinhala phrases and questions:\",\n          \"Okay? Come on.\"\n        ],\n        \"semantic_type\": \"\",\n        \"description\": \"\"\n      }\n    },\n    {\n      \"column\": \"sinhala\",\n      \"properties\": {\n        \"dtype\": \"string\",\n        \"num_unique_values\": 123,\n        \"samples\": [\n          \"\\u0db8\\u0db8 \\u0d94\\u0dba\\u0dcf\\u0da7 \\u0dc0\\u0db3\\u0dd2\\u0db1\\u0dca\\u0db1\\u0db8\\u0dca \\u0db8\\u0db8 \\u0d94\\u0dba\\u0dcf\\u0da7 \\u0dc0\\u0db3\\u0dd2\\u0db1\\u0dca\\u0db1\\u0db8\\u0dca\",\n          \"\\u0d94\\u0dba\\u0dcf \\u0db4\\u0dd9\\u0db1\\u0dca\\u0d9c\\u0dca-\\u0db4\\u0dd9\\u0db1\\u0dca\\u0d9c\\u0dca \\u0d85\\u0dad\\u0dd4\\u0dbb\\u0dd4\\u0daf\\u0dc4\\u0db1\\u0dca \\u0d8b\\u0db1 \\u0d91\\u0d9a\\u0da7 \\u0d94\\u0dba\\u0dcf\\u0da7\\u0db8 \\u0daf\\u0ddc\\u0dc3\\u0dca \\u0d9a\\u0dd2\\u0dba\\u0dcf\\u0d9c\\u0dad\\u0dca\\u0dad\\u0dcf\",\n          \"\\u0d85\\u0db1\\u0dd2\\u0dc0\\u0dcf\\u0dbb\\u0dca\\u0dba\\u0dd9\\u0db1\\u0dca\\u0db8 \\u0db4\\u0dd9\\u0db1\\u0dca\\u0d9c\\u0dca-\\u0db4\\u0dd9\\u0db1\\u0dca\\u0d9c\\u0dca \\u0d9a\\u0dc0\\u0dd4\\u0dbb\\u0dd4\\u0dc4\\u0dbb\\u0dd2 \\u0db4\\u0dd0\\u0dc4\\u0dd0\\u0dbb\\u0d9c\\u0dd9\\u0db1.\"\n        ],\n        \"semantic_type\": \"\",\n        \"description\": \"\"\n      }\n    }\n  ]\n}"
            }
          },
          "metadata": {},
          "execution_count": 7
        }
      ]
    },
    {
      "cell_type": "code",
      "source": [
        "spa_sentences = df[\"sinhala\"] + \"\\t\" + df[\"english\"]\n",
        "\n",
        "# Save the concatenated sentences to a text file\n",
        "with open(\"spa.txt\", \"w\", encoding=\"utf-8\") as file:\n",
        "    for sentence in spa_sentences:\n",
        "        file.write(str(sentence) + \"\\n\")"
      ],
      "metadata": {
        "id": "_koRIqT6zUv4"
      },
      "execution_count": 8,
      "outputs": []
    },
    {
      "cell_type": "code",
      "source": [
        "text_file =\"spa.txt\""
      ],
      "metadata": {
        "id": "UOBMHqrizVgn"
      },
      "execution_count": 9,
      "outputs": []
    },
    {
      "cell_type": "code",
      "source": [
        "text_file =\"spa.txt\"\n",
        "with open(text_file) as f:\n",
        "  lines=f.read().split(\"\\n\")[:-1]"
      ],
      "metadata": {
        "id": "YvCjFOxizaCn"
      },
      "execution_count": 10,
      "outputs": []
    },
    {
      "cell_type": "code",
      "source": [
        "i=0\n",
        "for line in lines:\n",
        "  print(line)\n",
        "  i=i+1\n",
        "  if(i==20):\n",
        "    break"
      ],
      "metadata": {
        "colab": {
          "base_uri": "https://localhost:8080/"
        },
        "id": "69A9Rn1rzdGw",
        "outputId": "7584ba79-6304-45ef-99d3-05138c01699b"
      },
      "execution_count": 11,
      "outputs": [
        {
          "output_type": "stream",
          "name": "stdout",
          "text": [
            "තේරුම් ගත්තාට ස්තූතියි\t thank you for your understanding\n",
            "මට දැන් වැඩි වෙලාවක් ඉතිරි වෙලා නෑ.\tThere's not much time left for me now.\n",
            "මට පිළිකාවක් හැදිලා තියෙනවා.\tI have been diagnosed with cancer.\n",
            "අවුරුද්දකට කලින් විසඳපු නැති කේස් එකක්\tAn unsolved case from a year ago.\n",
            "හරි ? කමෝන්.\tOkay? Come on.\n",
            "හරි ? කමෝන්.\tOkay? Come on.\n",
            "හරි ? කමෝන්.\tOkay? Come on.\n",
            "අපි ගොඩක් මහන්සි වෙලා වැඩ කලොත් ඒක අපේ කාර්‍ය සාධනයට බලපානවා.\tIt'll affect our performance if we are too persistent.\n",
            "ඔයා කවදාවත් හිතුවද ඒක කොච්චර හදකම්පා කරන දෙයක්ද කියලා\tHave you ever thought about how heartbreaking it is\n",
            "ඔයාට අපිව ආරක්ෂා කරන්න බැරි නම් එහෙනම් කොහේද සාධාරණය ?\tIf you can't protect us, then where's the justice?\n",
            "හුවැන්ග් මින්ග් චෙන්ග් ඇත්තටම මැරිලද?\tIs Huang Ming-Cheng really dead?\n",
            "කොහොමද ඔයා මට මෙහෙම කරේ?\tHow could you do this to me?\n",
            "කෝ මගේ දුව ?\tWhere's my daughter?\n",
            "ඔයාගෙ සැමියා මගේ දුවව පැහැරගත්තා\tYour husband kidnapped my daughter.\n",
            "ඔයාගෙ සැමියා මගේ දුවව පැහැරගත්තා\tYour husband kidnapped my daughter.\n",
            " මගේ දුව කොහෙද ?\tWhere's my daughter?\n",
            "ඔයා දැනගන්න ඕනේ එයා කොහෙද කියලා ,  නේද ?\tYou should know where she is, right?\n",
            "ඔයාගෙ සැමියා මගේ දුවව පැහැරගත්තා\tYour husband kidnapped my daughter.\n",
            "නවත්තන්න .  මගේ දුව කොහෙද කියලා කියන්න\tStop. Tell me where my daughter is.\n",
            "මගේ ඩූ-ඩූ.\tMy Dou-Dou.\n"
          ]
        }
      ]
    },
    {
      "cell_type": "code",
      "source": [
        "for x in range(len(lines)-10,len(lines)):\n",
        "  print(lines[x])"
      ],
      "metadata": {
        "colab": {
          "base_uri": "https://localhost:8080/"
        },
        "id": "ZmcVz62uzfit",
        "outputId": "3b58883a-9633-4ecf-d29e-0cd7892195f1"
      },
      "execution_count": 12,
      "outputs": [
        {
          "output_type": "stream",
          "name": "stdout",
          "text": [
            "ඇව්නි, ඇයි ඔයා ඔතන හිටගෙන මෙහෙට එන්න\tAvni, why are you standing there come in.\n",
            "මේ තමයි මම ඔයාට දෙන සප්රයිස් එක\tThis is my surprise for you.\n",
            "ඔතන නවත්තන්න\t-  Stop right there.\n",
            "ඔතන නවත්තන්න\t-  Stop right there.\n",
            "හායි\thi\n",
            "ඔහෙට පිස්සු හැදිලද මිනිහෝ?\tare you crazy man?\n",
            "හොඳ නිෂ්පාදනයක්, ගොඩක් හොඳ ගුණාත්මක බවක් තියෙනවා, 100% හොඳ වැඩ කරන තත්වයේ තියෙනවා\tGood product, Have a very good quality, 100% Good working condition\n",
            "බෙරයක් හදන්නේ කොහොමද\thow to create drum\n",
            "මම හැමතිස්සේම ලෑස්තියි \ti'm ready,always\n",
            "nan\n"
          ]
        }
      ]
    },
    {
      "cell_type": "code",
      "source": [
        "import random\n",
        "import string\n",
        "import re\n",
        "\n",
        "text_pairs = []\n",
        "\n",
        "\n",
        "for line in lines:\n",
        "    if '\\t' in line:\n",
        "        english, sinhala = line.split(\"\\t\")\n",
        "        sinhala = \"[start]\" + sinhala.strip() + \"[end]\"\n",
        "        text_pairs.append((english.strip(), sinhala))\n",
        "for i in range(3):\n",
        "    print(random.choice(text_pairs))\n"
      ],
      "metadata": {
        "colab": {
          "base_uri": "https://localhost:8080/"
        },
        "id": "LEePyj1Rzl8E",
        "outputId": "c0ae4f00-3c3f-42ec-a2ff-437c638b5d85"
      },
      "execution_count": 13,
      "outputs": [
        {
          "output_type": "stream",
          "name": "stdout",
          "text": [
            "('මම මේ වෙනකම් ඉවසුවේ ඔයාට දැනගන්න දෙන්න.', '[start]I endured it until now to let you know[end]')\n",
            "('මේ චෙන් අක්කේ, කරුණාකරලා නවතින්න.', '[start]Sis Mei-Chen, please stop.[end]')\n",
            "('මගේ හිතට එන පළවෙනි දේ', '[start]the first thing that appears in my mind[end]')\n"
          ]
        }
      ]
    },
    {
      "cell_type": "code",
      "source": [
        "import random\n",
        "random.shuffle(text_pairs)"
      ],
      "metadata": {
        "id": "EdUBzZwzzqmt"
      },
      "execution_count": 14,
      "outputs": []
    },
    {
      "cell_type": "code",
      "source": [
        "num_val_samples =int(0.15*len(text_pairs))\n",
        "num_train_samples=len(text_pairs) -2* num_val_samples\n",
        "train_pairs = text_pairs[:num_train_samples]\n",
        "val_pairs = text_pairs[num_train_samples:num_train_samples + num_val_samples]\n",
        "test_pairs = text_pairs[num_train_samples + num_val_samples:]"
      ],
      "metadata": {
        "id": "qo_bfNGGzw64"
      },
      "execution_count": 15,
      "outputs": []
    },
    {
      "cell_type": "code",
      "source": [
        "print(\"Total sentences:\",len(text_pairs))\n",
        "print(\"Training set size:\",len(train_pairs))\n",
        "print(\"Validation set size:\",len(val_pairs))\n",
        "print(\"Testing set size:\",len(test_pairs))"
      ],
      "metadata": {
        "colab": {
          "base_uri": "https://localhost:8080/"
        },
        "id": "8pF4AzzBzxh9",
        "outputId": "df0ff2f0-c4ce-4639-c671-dfda54251a62"
      },
      "execution_count": 16,
      "outputs": [
        {
          "output_type": "stream",
          "name": "stdout",
          "text": [
            "Total sentences: 133\n",
            "Training set size: 95\n",
            "Validation set size: 19\n",
            "Testing set size: 19\n"
          ]
        }
      ]
    },
    {
      "cell_type": "code",
      "source": [
        "len(train_pairs)+len(val_pairs)+len(test_pairs)"
      ],
      "metadata": {
        "colab": {
          "base_uri": "https://localhost:8080/"
        },
        "id": "18KZgT8lz2CZ",
        "outputId": "53133d34-5a4a-4acc-d5d3-89ab1e7e6b67"
      },
      "execution_count": 17,
      "outputs": [
        {
          "output_type": "execute_result",
          "data": {
            "text/plain": [
              "133"
            ]
          },
          "metadata": {},
          "execution_count": 17
        }
      ]
    },
    {
      "cell_type": "code",
      "source": [
        "strip_chars = string.punctuation + \"¿\"\n",
        "strip_chars = strip_chars.replace(\"[\", \"\")\n",
        "strip_chars = strip_chars.replace(\"]\", \"\")"
      ],
      "metadata": {
        "id": "GxQkGBnyz5Se"
      },
      "execution_count": 18,
      "outputs": []
    },
    {
      "cell_type": "code",
      "source": [
        "f\"[{re.escape(strip_chars)}]\""
      ],
      "metadata": {
        "colab": {
          "base_uri": "https://localhost:8080/",
          "height": 35
        },
        "id": "mvsnSbuGz9yB",
        "outputId": "56024841-d2ce-4fda-89ad-edd734c4951e"
      },
      "execution_count": 19,
      "outputs": [
        {
          "output_type": "execute_result",
          "data": {
            "text/plain": [
              "'[!\"\\\\#\\\\$%\\\\&\\'\\\\(\\\\)\\\\*\\\\+,\\\\-\\\\./:;<=>\\\\?@\\\\\\\\\\\\^_`\\\\{\\\\|\\\\}\\\\~¿]'"
            ],
            "application/vnd.google.colaboratory.intrinsic+json": {
              "type": "string"
            }
          },
          "metadata": {},
          "execution_count": 19
        }
      ]
    },
    {
      "cell_type": "code",
      "source": [
        "from tensorflow import keras\n",
        "from tensorflow.keras import layers\n",
        "def custom_standardization(input_string):\n",
        "  lowercase = tf.strings.lower(input_string)\n",
        "  return tf.strings.regex_replace(\n",
        "    lowercase, f\"[{re.escape(strip_chars)}]\", \"\")\n",
        "vocab_size = 15000\n",
        "sequence_length = 20\n",
        "source_vectorization = layers.TextVectorization(\n",
        "  max_tokens=vocab_size,\n",
        "  output_mode=\"int\",\n",
        "  output_sequence_length=sequence_length,\n",
        ")\n",
        "target_vectorization = layers.TextVectorization(\n",
        "  max_tokens=vocab_size,\n",
        "  output_mode=\"int\",\n",
        "  output_sequence_length=sequence_length + 1,\n",
        "  standardize=custom_standardization,\n",
        ")\n",
        "train_english_texts = [pair[0] for pair in train_pairs]\n",
        "train_spanish_texts = [pair[1] for pair in train_pairs]"
      ],
      "metadata": {
        "id": "NuUHNSEr0Aj4"
      },
      "execution_count": 20,
      "outputs": []
    },
    {
      "cell_type": "code",
      "source": [
        "source_vectorization.adapt(train_english_texts)\n",
        "target_vectorization.adapt(train_spanish_texts)"
      ],
      "metadata": {
        "id": "SOxDzH7-0FQH"
      },
      "execution_count": 21,
      "outputs": []
    },
    {
      "cell_type": "code",
      "source": [
        "import tensorflow as tf\n",
        "\n",
        "def format_dataset(eng, spa):\n",
        "    eng = source_vectorization(eng)\n",
        "    spa = target_vectorization(spa)\n",
        "    return ({\n",
        "        \"english\": eng,\n",
        "        \"sinhala\": spa[:, :-1],\n",
        "    }, spa[:, 1:])\n",
        "\n",
        "def make_dataset(pairs):\n",
        "    eng_texts, spa_texts = zip(*pairs)\n",
        "    eng_texts = list(eng_texts)\n",
        "    spa_texts = list(spa_texts)\n",
        "    dataset = tf.data.Dataset.from_tensor_slices((eng_texts, spa_texts))\n",
        "    dataset = dataset.batch(batch_size)\n",
        "    dataset = dataset.map(format_dataset, num_parallel_calls=4)\n",
        "    return dataset.shuffle(2048).prefetch(16).cache()\n",
        "\n",
        "# Assuming `train_pairs` and `val_pairs` are defined somewhere in your notebook\n",
        "train_ds = make_dataset(train_pairs)\n",
        "val_ds = make_dataset(val_pairs)\n",
        "\n",
        "# Check a single batch\n",
        "for inputs, targets in train_ds.take(1):\n",
        "    print(f\"inputs['english'].shape: {inputs['english'].shape}\")\n",
        "    print(f\"inputs['sinhala'].shape: {inputs['sinhala'].shape}\")\n",
        "    print(f\"targets.shape: {targets.shape}\")\n",
        "\n",
        "# Safely checking and printing the 33rd batch\n",
        "batch_list = list(train_ds.as_numpy_iterator())\n",
        "batch_index = 32  # Since indexing starts at 0, 32 is the 33rd element\n",
        "\n",
        "if len(batch_list) > batch_index:\n",
        "    print(batch_list[batch_index])\n",
        "else:\n",
        "    print(f\"Batch index {batch_index + 1} is out of range. The dataset contains only {len(batch_list)} batches.\")\n"
      ],
      "metadata": {
        "colab": {
          "base_uri": "https://localhost:8080/"
        },
        "id": "bIjXICfXSNZl",
        "outputId": "39f6c662-e189-4403-d5d6-7c8f053b648e"
      },
      "execution_count": 25,
      "outputs": [
        {
          "output_type": "stream",
          "name": "stdout",
          "text": [
            "inputs['english'].shape: (64, 20)\n",
            "inputs['sinhala'].shape: (64, 20)\n",
            "targets.shape: (64, 20)\n",
            "Batch index 33 is out of range. The dataset contains only 2 batches.\n"
          ]
        }
      ]
    },
    {
      "cell_type": "code",
      "source": [
        "batch_size=64\n",
        "\n",
        "def format_dataset(eng,spa):\n",
        "  eng=source_vectorization(eng)\n",
        "  spa=target_vectorization(spa)\n",
        "  return({\n",
        "      \"english\":eng,\n",
        "      \"sinhala\":spa[:,:-1],\n",
        "  },spa[:,1:])\n",
        "\n",
        "def make_dataset(pairs):\n",
        "  eng_texts, spa_texts =zip(*pairs)\n",
        "  eng_texts =list(eng_texts)\n",
        "  spa_texts =list(spa_texts)\n",
        "  dataset = tf.data.Dataset.from_tensor_slices((eng_texts, spa_texts))\n",
        "  dataset = dataset.batch(batch_size)\n",
        "  dataset = dataset.map(format_dataset, num_parallel_calls=4)\n",
        "  return dataset.shuffle(2048).prefetch(16).cache()\n",
        "\n",
        "train_ds = make_dataset(train_pairs)\n",
        "val_ds = make_dataset(val_pairs)\n",
        "\n",
        "for inputs, targets in train_ds.take(1):\n",
        "  print(f\"inputs['english'].shape:{inputs['english'].shape}\")\n",
        "  print(f\"inputs['sinhala'].shape:{inputs['sinhala'].shape}\")\n",
        "  print(f\"targets.shape:{targets.shape}\")\n",
        "\n",
        "  inputs['english'].shape: (64, 20)\n",
        "  inputs['sinhala'].shape: (64, 20)\n",
        "  targets.shape: (64, 20)\n",
        "print(list(train_ds.as_numpy_iterator())[32])"
      ],
      "metadata": {
        "colab": {
          "base_uri": "https://localhost:8080/",
          "height": 234
        },
        "id": "PpIDF9Mx0IKU",
        "outputId": "0b678ce3-6ffc-499a-b386-91a5ebe40d6a"
      },
      "execution_count": 24,
      "outputs": [
        {
          "output_type": "stream",
          "name": "stdout",
          "text": [
            "inputs['english'].shape:(64, 20)\n",
            "inputs['sinhala'].shape:(64, 20)\n",
            "targets.shape:(64, 20)\n"
          ]
        },
        {
          "output_type": "error",
          "ename": "IndexError",
          "evalue": "list index out of range",
          "traceback": [
            "\u001b[0;31m---------------------------------------------------------------------------\u001b[0m",
            "\u001b[0;31mIndexError\u001b[0m                                Traceback (most recent call last)",
            "\u001b[0;32m<ipython-input-24-cdee14ff749e>\u001b[0m in \u001b[0;36m<cell line: 31>\u001b[0;34m()\u001b[0m\n\u001b[1;32m     29\u001b[0m   \u001b[0minputs\u001b[0m\u001b[0;34m[\u001b[0m\u001b[0;34m'sinhala'\u001b[0m\u001b[0;34m]\u001b[0m\u001b[0;34m.\u001b[0m\u001b[0mshape\u001b[0m\u001b[0;34m:\u001b[0m \u001b[0;34m(\u001b[0m\u001b[0;36m64\u001b[0m\u001b[0;34m,\u001b[0m \u001b[0;36m20\u001b[0m\u001b[0;34m)\u001b[0m\u001b[0;34m\u001b[0m\u001b[0;34m\u001b[0m\u001b[0m\n\u001b[1;32m     30\u001b[0m   \u001b[0mtargets\u001b[0m\u001b[0;34m.\u001b[0m\u001b[0mshape\u001b[0m\u001b[0;34m:\u001b[0m \u001b[0;34m(\u001b[0m\u001b[0;36m64\u001b[0m\u001b[0;34m,\u001b[0m \u001b[0;36m20\u001b[0m\u001b[0;34m)\u001b[0m\u001b[0;34m\u001b[0m\u001b[0;34m\u001b[0m\u001b[0m\n\u001b[0;32m---> 31\u001b[0;31m \u001b[0mprint\u001b[0m\u001b[0;34m(\u001b[0m\u001b[0mlist\u001b[0m\u001b[0;34m(\u001b[0m\u001b[0mtrain_ds\u001b[0m\u001b[0;34m.\u001b[0m\u001b[0mas_numpy_iterator\u001b[0m\u001b[0;34m(\u001b[0m\u001b[0;34m)\u001b[0m\u001b[0;34m)\u001b[0m\u001b[0;34m[\u001b[0m\u001b[0;36m32\u001b[0m\u001b[0;34m]\u001b[0m\u001b[0;34m)\u001b[0m\u001b[0;34m\u001b[0m\u001b[0;34m\u001b[0m\u001b[0m\n\u001b[0m",
            "\u001b[0;31mIndexError\u001b[0m: list index out of range"
          ]
        }
      ]
    },
    {
      "cell_type": "code",
      "source": [
        "import string\n",
        "import tensorflow as tf\n",
        "from tensorflow import keras\n",
        "from tensorflow.keras import layers"
      ],
      "metadata": {
        "id": "Uh4wJ2Ay0QcP"
      },
      "execution_count": 26,
      "outputs": []
    },
    {
      "cell_type": "code",
      "source": [
        "import tensorflow as tf\n",
        "from tensorflow.keras import layers\n",
        "\n",
        "class TransformerEncoder(layers.Layer):\n",
        "    def __init__(self, embed_dim, dense_dim, num_heads, **kwargs):\n",
        "        super().__init__(**kwargs)\n",
        "        self.embed_dim = embed_dim\n",
        "        self.dense_dim = dense_dim\n",
        "        self.num_heads = num_heads\n",
        "        self.attention = layers.MultiHeadAttention(\n",
        "            num_heads=num_heads, key_dim=embed_dim)\n",
        "        self.dense_proj = tf.keras.Sequential([\n",
        "            layers.Dense(dense_dim, activation=\"relu\"),\n",
        "            layers.Dense(embed_dim),\n",
        "        ])\n",
        "        self.layernorm_1 = layers.LayerNormalization()\n",
        "        self.layernorm_2 = layers.LayerNormalization()\n",
        "\n",
        "    def call(self, inputs, mask=None):\n",
        "        if mask is not None:\n",
        "            mask = mask[:, tf.newaxis, :]\n",
        "        attention_output = self.attention(\n",
        "            inputs, inputs, attention_mask=mask)\n",
        "        proj_input = self.layernorm_1(inputs + attention_output)\n",
        "        proj_output = self.dense_proj(proj_input)\n",
        "        return self.layernorm_2(proj_input + proj_output)\n",
        "\n",
        "    def get_config(self):\n",
        "        config = super().get_config()\n",
        "        config.update({\n",
        "            \"embed_dim\": self.embed_dim,\n",
        "            \"num_heads\": self.num_heads,\n",
        "            \"dense_dim\": self.dense_dim,\n",
        "        })\n",
        "        return config"
      ],
      "metadata": {
        "id": "ocapOXB20Vql"
      },
      "execution_count": 27,
      "outputs": []
    },
    {
      "cell_type": "code",
      "source": [
        "import tensorflow as tf\n",
        "from tensorflow.keras import layers\n",
        "\n",
        "class TransformerDecoder(layers.Layer):\n",
        "    def __init__(self, embed_dim, dense_dim, num_heads, **kwargs):\n",
        "        super().__init__(**kwargs)\n",
        "        self.embed_dim = embed_dim\n",
        "        self.dense_dim = dense_dim\n",
        "        self.num_heads = num_heads\n",
        "        self.attention_1 = layers.MultiHeadAttention(num_heads=num_heads, key_dim=embed_dim)\n",
        "        self.attention_2 = layers.MultiHeadAttention(num_heads=num_heads, key_dim=embed_dim)\n",
        "        self.dense_proj = tf.keras.Sequential([\n",
        "            layers.Dense(dense_dim, activation=\"relu\"),\n",
        "            layers.Dense(embed_dim),\n",
        "        ])\n",
        "        self.layernorm_1 = layers.LayerNormalization()\n",
        "        self.layernorm_2 = layers.LayerNormalization()\n",
        "        self.layernorm_3 = layers.LayerNormalization()\n",
        "        self.supports_masking = True\n",
        "\n",
        "    def get_config(self):\n",
        "        config = super().get_config()\n",
        "        config.update({\n",
        "            \"embed_dim\": self.embed_dim,\n",
        "            \"num_heads\": self.num_heads,\n",
        "            \"dense_dim\": self.dense_dim,\n",
        "        })\n",
        "        return config\n",
        "\n",
        "    def get_causal_attention_mask(self, inputs):\n",
        "        input_shape = tf.shape(inputs)\n",
        "        batch_size, sequence_length = input_shape[0], input_shape[1]\n",
        "        i = tf.range(sequence_length)[:, tf.newaxis]\n",
        "        j = tf.range(sequence_length)\n",
        "        mask = tf.cast(i >= j, dtype=\"int32\")\n",
        "        mask = tf.reshape(mask, (1, input_shape[1], input_shape[1]))\n",
        "        mult = tf.concat([tf.expand_dims(batch_size, -1), tf.constant([1, 1], dtype=tf.int32)], axis=0)\n",
        "        return tf.tile(mask, mult)\n",
        "\n",
        "    def call(self, inputs, encoder_outputs, mask=None):\n",
        "        causal_mask = self.get_causal_attention_mask(inputs)\n",
        "        if mask is not None:\n",
        "            padding_mask = tf.cast(mask[:, tf.newaxis, :], dtype=\"int32\")\n",
        "            padding_mask = tf.minimum(padding_mask, causal_mask)\n",
        "        else:\n",
        "            padding_mask = mask\n",
        "        attention_output_1 = self.attention_1(\n",
        "            query=inputs,\n",
        "            value=inputs,\n",
        "            key=inputs,\n",
        "            attention_mask=causal_mask\n",
        "        )\n",
        "        attention_output_1 = self.layernorm_1(inputs + attention_output_1)\n",
        "        attention_output_2 = self.attention_2(\n",
        "            query=attention_output_1,\n",
        "            value=encoder_outputs,\n",
        "            key=encoder_outputs,\n",
        "            attention_mask=padding_mask,\n",
        "        )\n",
        "        attention_output_2 = self.layernorm_2(attention_output_1 + attention_output_2)\n",
        "        proj_output = self.dense_proj(attention_output_2)\n",
        "        return self.layernorm_3(attention_output_2 + proj_output)\n"
      ],
      "metadata": {
        "id": "duZdmK-V0gDY"
      },
      "execution_count": 28,
      "outputs": []
    },
    {
      "cell_type": "code",
      "source": [
        "import tensorflow as tf\n",
        "from tensorflow.keras import layers\n",
        "\n",
        "class PositionalEmbedding(layers.Layer):\n",
        "    def __init__(self, sequence_length, input_dim, output_dim, **kwargs):\n",
        "        super().__init__(**kwargs)\n",
        "        self.token_embeddings = layers.Embedding(input_dim=input_dim, output_dim=output_dim)\n",
        "        self.position_embeddings = layers.Embedding(input_dim=sequence_length, output_dim=output_dim)\n",
        "        self.sequence_length = sequence_length\n",
        "        self.input_dim = input_dim\n",
        "        self.output_dim = output_dim\n",
        "\n",
        "    def call(self, inputs):\n",
        "        length = tf.shape(inputs)[-1]\n",
        "        positions = tf.range(start=0, limit=length, delta=1)\n",
        "        embedded_tokens = self.token_embeddings(inputs)\n",
        "        embedded_positions = self.position_embeddings(positions)\n",
        "        return embedded_tokens + embedded_positions\n",
        "\n",
        "    def compute_mask(self, inputs, mask=None):\n",
        "        return tf.math.not_equal(inputs, 0)\n",
        "\n",
        "    def get_config(self):\n",
        "        config = super(PositionalEmbedding, self).get_config()\n",
        "        config.update({\n",
        "            \"output_dim\": self.output_dim,\n",
        "            \"sequence_length\": self.sequence_length,\n",
        "            \"input_dim\": self.input_dim,\n",
        "            })\n",
        "        return config"
      ],
      "metadata": {
        "id": "xU2Bqegr0usq"
      },
      "execution_count": 29,
      "outputs": []
    },
    {
      "cell_type": "code",
      "source": [
        "embed_dim = 256\n",
        "dense_dim = 2048\n",
        "num_heads = 8\n",
        "\n",
        "\n",
        "# Define the encoder inputs\n",
        "encoder_inputs = tf.keras.Input(shape=(None,), dtype=\"int64\", name=\"english\")\n",
        "\n",
        "# Add positional embedding to the encoder inputs\n",
        "x = PositionalEmbedding(sequence_length, vocab_size, embed_dim)(encoder_inputs)\n",
        "\n",
        "# Encode the inputs using TransformerEncoder\n",
        "encoder_outputs = TransformerEncoder(embed_dim, dense_dim, num_heads)(x)\n",
        "\n",
        "# Define the decoder inputs\n",
        "decoder_inputs = tf.keras.Input(shape=(None,), dtype=\"int64\", name=\"sinhala\")\n",
        "\n",
        "# Add positional embedding to the decoder inputs\n",
        "x = PositionalEmbedding(sequence_length, vocab_size, embed_dim)(decoder_inputs)\n",
        "\n",
        "# Decode the inputs using TransformerDecoder\n",
        "x = TransformerDecoder(embed_dim, dense_dim, num_heads)(x, encoder_outputs)\n",
        "\n",
        "# Apply dropout\n",
        "x = layers.Dropout(0.5)(x)\n",
        "\n",
        "# Generate decoder outputs\n",
        "decoder_outputs = layers.Dense(vocab_size, activation=\"softmax\")(x)\n",
        "\n",
        "# Create the transformer model\n",
        "transformer = tf.keras.Model([encoder_inputs, decoder_inputs], decoder_outputs)\n",
        "\n",
        "transformer.summary()"
      ],
      "metadata": {
        "colab": {
          "base_uri": "https://localhost:8080/"
        },
        "id": "sUZHphFy02pI",
        "outputId": "2a8d866b-9f85-4628-d1ae-8969975e81a6"
      },
      "execution_count": 30,
      "outputs": [
        {
          "output_type": "stream",
          "name": "stdout",
          "text": [
            "Model: \"model\"\n",
            "__________________________________________________________________________________________________\n",
            " Layer (type)                Output Shape                 Param #   Connected to                  \n",
            "==================================================================================================\n",
            " english (InputLayer)        [(None, None)]               0         []                            \n",
            "                                                                                                  \n",
            " sinhala (InputLayer)        [(None, None)]               0         []                            \n",
            "                                                                                                  \n",
            " positional_embedding (Posi  (None, None, 256)            3845120   ['english[0][0]']             \n",
            " tionalEmbedding)                                                                                 \n",
            "                                                                                                  \n",
            " positional_embedding_1 (Po  (None, None, 256)            3845120   ['sinhala[0][0]']             \n",
            " sitionalEmbedding)                                                                               \n",
            "                                                                                                  \n",
            " transformer_encoder (Trans  (None, None, 256)            3155456   ['positional_embedding[0][0]']\n",
            " formerEncoder)                                                                                   \n",
            "                                                                                                  \n",
            " transformer_decoder (Trans  (None, None, 256)            5259520   ['positional_embedding_1[0][0]\n",
            " formerDecoder)                                                     ',                            \n",
            "                                                                     'transformer_encoder[0][0]'] \n",
            "                                                                                                  \n",
            " dropout (Dropout)           (None, None, 256)            0         ['transformer_decoder[0][0]'] \n",
            "                                                                                                  \n",
            " dense_4 (Dense)             (None, None, 15000)          3855000   ['dropout[0][0]']             \n",
            "                                                                                                  \n",
            "==================================================================================================\n",
            "Total params: 19960216 (76.14 MB)\n",
            "Trainable params: 19960216 (76.14 MB)\n",
            "Non-trainable params: 0 (0.00 Byte)\n",
            "__________________________________________________________________________________________________\n"
          ]
        }
      ]
    },
    {
      "cell_type": "code",
      "source": [
        "transformer.compile(optimizer=\"rmsprop\",\n",
        "                    loss=\"sparse_categorical_crossentropy\",\n",
        "                    metrics=[\"accuracy\"])\n",
        "\n",
        "transformer.fit(train_ds, epochs=30, validation_data=val_ds)\n"
      ],
      "metadata": {
        "colab": {
          "base_uri": "https://localhost:8080/"
        },
        "id": "PfJK8amN0947",
        "outputId": "6c8807e6-303b-40ad-8f4b-4395b57b7fc2"
      },
      "execution_count": 31,
      "outputs": [
        {
          "output_type": "stream",
          "name": "stdout",
          "text": [
            "Epoch 1/30\n",
            "2/2 [==============================] - 12s 4s/step - loss: 9.3831 - accuracy: 0.1167 - val_loss: 8.7813 - val_accuracy: 0.1667\n",
            "Epoch 2/30\n",
            "2/2 [==============================] - 5s 3s/step - loss: 8.6086 - accuracy: 0.1741 - val_loss: 8.3185 - val_accuracy: 0.1667\n",
            "Epoch 3/30\n",
            "2/2 [==============================] - 5s 3s/step - loss: 7.9707 - accuracy: 0.1741 - val_loss: 7.8670 - val_accuracy: 0.1667\n",
            "Epoch 4/30\n",
            "2/2 [==============================] - 6s 4s/step - loss: 7.4194 - accuracy: 0.1741 - val_loss: 7.5279 - val_accuracy: 0.1754\n",
            "Epoch 5/30\n",
            "2/2 [==============================] - 5s 4s/step - loss: 6.9243 - accuracy: 0.1759 - val_loss: 7.1808 - val_accuracy: 0.1842\n",
            "Epoch 6/30\n",
            "2/2 [==============================] - 6s 4s/step - loss: 6.4485 - accuracy: 0.1778 - val_loss: 6.8652 - val_accuracy: 0.1667\n",
            "Epoch 7/30\n",
            "2/2 [==============================] - 6s 4s/step - loss: 6.0938 - accuracy: 0.1759 - val_loss: 6.6669 - val_accuracy: 0.1667\n",
            "Epoch 8/30\n",
            "2/2 [==============================] - 4s 3s/step - loss: 5.7942 - accuracy: 0.1759 - val_loss: 6.5269 - val_accuracy: 0.1667\n",
            "Epoch 9/30\n",
            "2/2 [==============================] - 7s 5s/step - loss: 5.4607 - accuracy: 0.1796 - val_loss: 6.4164 - val_accuracy: 0.1842\n",
            "Epoch 10/30\n",
            "2/2 [==============================] - 5s 4s/step - loss: 5.2981 - accuracy: 0.1815 - val_loss: 6.3397 - val_accuracy: 0.1667\n",
            "Epoch 11/30\n",
            "2/2 [==============================] - 10s 7s/step - loss: 5.1007 - accuracy: 0.1907 - val_loss: 6.1473 - val_accuracy: 0.1754\n",
            "Epoch 12/30\n",
            "2/2 [==============================] - 6s 3s/step - loss: 4.9813 - accuracy: 0.2185 - val_loss: 6.0819 - val_accuracy: 0.1667\n",
            "Epoch 13/30\n",
            "2/2 [==============================] - 6s 4s/step - loss: 5.0529 - accuracy: 0.2426 - val_loss: 6.1176 - val_accuracy: 0.1667\n",
            "Epoch 14/30\n",
            "2/2 [==============================] - 4s 3s/step - loss: 4.7420 - accuracy: 0.2204 - val_loss: 5.9970 - val_accuracy: 0.1754\n",
            "Epoch 15/30\n",
            "2/2 [==============================] - 6s 5s/step - loss: 4.2927 - accuracy: 0.2000 - val_loss: 5.8541 - val_accuracy: 0.2281\n",
            "Epoch 16/30\n",
            "2/2 [==============================] - 5s 3s/step - loss: 4.1153 - accuracy: 0.2574 - val_loss: 5.8093 - val_accuracy: 0.2456\n",
            "Epoch 17/30\n",
            "2/2 [==============================] - 5s 3s/step - loss: 3.8771 - accuracy: 0.2759 - val_loss: 5.7082 - val_accuracy: 0.2544\n",
            "Epoch 18/30\n",
            "2/2 [==============================] - 7s 5s/step - loss: 3.5843 - accuracy: 0.3389 - val_loss: 5.6435 - val_accuracy: 0.2719\n",
            "Epoch 19/30\n",
            "2/2 [==============================] - 5s 4s/step - loss: 3.4927 - accuracy: 0.3556 - val_loss: 5.5957 - val_accuracy: 0.2719\n",
            "Epoch 20/30\n",
            "2/2 [==============================] - 7s 5s/step - loss: 3.2646 - accuracy: 0.4204 - val_loss: 5.5649 - val_accuracy: 0.2719\n",
            "Epoch 21/30\n",
            "2/2 [==============================] - 5s 3s/step - loss: 3.0870 - accuracy: 0.4537 - val_loss: 5.5027 - val_accuracy: 0.2632\n",
            "Epoch 22/30\n",
            "2/2 [==============================] - 7s 5s/step - loss: 2.9340 - accuracy: 0.4685 - val_loss: 5.4463 - val_accuracy: 0.2456\n",
            "Epoch 23/30\n",
            "2/2 [==============================] - 5s 3s/step - loss: 2.7945 - accuracy: 0.5315 - val_loss: 5.4160 - val_accuracy: 0.2632\n",
            "Epoch 24/30\n",
            "2/2 [==============================] - 7s 5s/step - loss: 2.7497 - accuracy: 0.5981 - val_loss: 5.5596 - val_accuracy: 0.2544\n",
            "Epoch 25/30\n",
            "2/2 [==============================] - 5s 3s/step - loss: 2.6829 - accuracy: 0.5519 - val_loss: 5.5154 - val_accuracy: 0.2544\n",
            "Epoch 26/30\n",
            "2/2 [==============================] - 5s 3s/step - loss: 2.4142 - accuracy: 0.5648 - val_loss: 5.2924 - val_accuracy: 0.3070\n",
            "Epoch 27/30\n",
            "2/2 [==============================] - 6s 4s/step - loss: 2.2839 - accuracy: 0.5630 - val_loss: 5.4325 - val_accuracy: 0.3070\n",
            "Epoch 28/30\n",
            "2/2 [==============================] - 5s 4s/step - loss: 2.2637 - accuracy: 0.5722 - val_loss: 5.4073 - val_accuracy: 0.3070\n",
            "Epoch 29/30\n",
            "2/2 [==============================] - 5s 3s/step - loss: 2.0146 - accuracy: 0.6907 - val_loss: 5.2340 - val_accuracy: 0.3421\n",
            "Epoch 30/30\n",
            "2/2 [==============================] - 6s 5s/step - loss: 1.7411 - accuracy: 0.7648 - val_loss: 5.1781 - val_accuracy: 0.3333\n"
          ]
        },
        {
          "output_type": "execute_result",
          "data": {
            "text/plain": [
              "<keras.src.callbacks.History at 0x7f4cf460d750>"
            ]
          },
          "metadata": {},
          "execution_count": 31
        }
      ]
    },
    {
      "cell_type": "code",
      "source": [
        "import numpy as np\n",
        "\n",
        "# Define the vocabulary and index lookup for Spanish\n",
        "\n",
        "spa_vocab = target_vectorization.get_vocabulary()\n",
        "spa_index_lookup = dict(zip(range(len(spa_vocab)), spa_vocab))\n",
        "max_decoded_sentence_length = 20\n",
        "\n",
        "def decode_sequence(input_sentence):\n",
        "    tokenized_input_sentence = source_vectorization([input_sentence])\n",
        "    decoded_sentence = \"[start]\"\n",
        "\n",
        "    for i in range(max_decoded_sentence_length):\n",
        "        tokenized_target_sentence = target_vectorization([decoded_sentence])[:, :-1]\n",
        "        predictions = transformer([tokenized_input_sentence, tokenized_target_sentence])\n",
        "        sampled_token_index = np.argmax(predictions[0, i, :])\n",
        "        sampled_token = spa_index_lookup[sampled_token_index]\n",
        "        decoded_sentence += \" \" + sampled_token\n",
        "\n",
        "        if sampled_token == \"[end]\":\n",
        "            break\n",
        "\n",
        "    return decoded_sentence\n",
        "\n",
        "test_eng_texts = [pair[0] for pair in test_pairs]\n",
        "\n",
        "for _ in range(20):\n",
        "    input_sentence = random.choice(test_eng_texts)\n",
        "    print(\"-\")\n",
        "    print(input_sentence)\n",
        "    print(decode_sequence(input_sentence))\n"
      ],
      "metadata": {
        "colab": {
          "base_uri": "https://localhost:8080/"
        },
        "id": "_uXKwPv-1CxJ",
        "outputId": "8a265bd0-beab-4a42-b2c3-f3977be171a9"
      },
      "execution_count": 32,
      "outputs": [
        {
          "output_type": "stream",
          "name": "stdout",
          "text": [
            "-\n",
            "ඔයාට ඒක අමුතුයි කියලා හිතෙන්නේ නැද්ද?\n",
            "[start] stop right there[end]             in  to  the\n",
            "-\n",
            "මගේ දුව ඩූ-ඩූ තමයි මට ඉතිරි වෙලා තියෙන්නේ.\n",
            "[start] stop right there[end]             in  to  the\n",
            "-\n",
            "ඔයාට බෑ ඔයාගේ දුවව ආපහු ජීවිතේට ගේන්න.\n",
            "[start] stop right there[end]             in  to  the\n",
            "-\n",
            "ඔයා පෙන්ග්-පෙන්ග් අතුරුදහන් උන එකට ඔයාටම දොස් කියාගත්තා\n",
            "[start] stop right there[end]             in  to  the\n",
            "-\n",
            "ඒත් මම විශ්වාස කරනවා\n",
            "[start] i am not coming[end]            in  to  \n",
            "-\n",
            "පෙන්ග් පෙන්ග්\n",
            "[start] stop right there[end]               to  \n",
            "-\n",
            "පෙන්ග් පෙන්ග්\n",
            "[start] stop right there[end]               to  \n",
            "-\n",
            "පෙන්ග් පෙන්ග්\n",
            "[start] stop right there[end]               to  \n",
            "-\n",
            "ඒත් මම විශ්වාස කරනවා\n",
            "[start] i am not coming[end]            in  to  \n",
            "-\n",
            "ඒත් හුවාන්ග් මින්ග් චෙන්ග් විතරයි දන්නේ\n",
            "[start] i am not coming[end]            in  to  the\n",
            "-\n",
            "ඒ ඔයා නිසා තමයි\n",
            "[start] stop right there[end]             in  to  \n",
            "-\n",
            "වැරදියට පරිවර්තනය වෙලාද?  දැන්ම අපිට වාර්තා කරන්න\n",
            "[start] stop right there[end]             in  to  the\n",
            "-\n",
            "පෙන්ග් පෙන්ග්\n",
            "[start] stop right there[end]               to  \n",
            "-\n",
            "හරි, අපිට දැන් රෙස්ටුරන්ට් එකකට යන්න පුළුවන්.\n",
            "[start] stop right there[end]             in  to  the\n",
            "-\n",
            "ඒ ඔයා නිසා තමයි\n",
            "[start] stop right there[end]             in  to  \n",
            "-\n",
            "මේ ජෙන් අක්කේ.\n",
            "[start] stop right there[end]               to  \n",
            "-\n",
            "ඔයා පෙන්ග්-පෙන්ග් අතුරුදහන් උන එකට ඔයාටම දොස් කියාගත්තා\n",
            "[start] stop right there[end]             in  to  the\n",
            "-\n",
            "ඔයාට බෑ ඔයාගේ දුවව ආපහු ජීවිතේට ගේන්න.\n",
            "[start] stop right there[end]             in  to  the\n",
            "-\n",
            "අනිවාර්යෙන්ම පෙන්ග්-පෙන්ග් කවුරුහරි පැහැරගෙන.\n",
            "[start] stop right there[end]             in  to  \n",
            "-\n",
            "ඔයා එයාව මරලා දැම්මත්,\n",
            "[start] stop right there[end]             in  to  \n"
          ]
        }
      ]
    },
    {
      "cell_type": "code",
      "source": [
        "import numpy as np\n",
        "\n",
        "# Define the vocabulary and index lookup for Sinhala\n",
        "sin_vocab = target_vectorization.get_vocabulary()\n",
        "sin_index_lookup = dict(zip(range(len(sin_vocab)), sin_vocab))\n",
        "max_decoded_sentence_length = 20\n",
        "\n",
        "def decode_sequence(input_sentence):\n",
        "    tokenized_input_sentence = source_vectorization([input_sentence])\n",
        "    decoded_sentence = \"[start]\"\n",
        "\n",
        "    for i in range(max_decoded_sentence_length):\n",
        "        tokenized_target_sentence = target_vectorization([decoded_sentence])[:, :-1]\n",
        "        predictions = transformer([tokenized_input_sentence, tokenized_target_sentence])\n",
        "        sampled_token_index = np.argmax(predictions[0, i, :])\n",
        "        sampled_token = sin_index_lookup[sampled_token_index]\n",
        "        decoded_sentence += \" \" + sampled_token\n",
        "\n",
        "        if sampled_token == \"[end]\":\n",
        "            break\n",
        "\n",
        "    return decoded_sentence\n",
        "\n",
        "test_eng_texts = [pair[0] for pair in test_pairs]\n",
        "\n",
        "for _ in range(20):\n",
        "    input_sentence = random.choice(test_eng_texts)\n",
        "    print(\"-\")\n",
        "    print(\"English: \", input_sentence)\n",
        "    print(\"Sinhala: \", decode_sequence(input_sentence))\n"
      ],
      "metadata": {
        "colab": {
          "base_uri": "https://localhost:8080/"
        },
        "id": "NMPWSGsr1L_W",
        "outputId": "92f6933e-80cb-42c3-fa8e-4837d5ba2654"
      },
      "execution_count": 33,
      "outputs": [
        {
          "output_type": "stream",
          "name": "stdout",
          "text": [
            "-\n",
            "English:  ඒත් හුවාන්ග් මින්ග් චෙන්ග් විතරයි දන්නේ\n",
            "Sinhala:  [start] i am not coming[end]            in  to  the\n",
            "-\n",
            "English:  ඒත් හුවාන්ග් මින්ග් චෙන්ග් විතරයි දන්නේ\n",
            "Sinhala:  [start] i am not coming[end]            in  to  the\n",
            "-\n",
            "English:  ඒත් මම විශ්වාස කරනවා\n",
            "Sinhala:  [start] i am not coming[end]            in  to  \n",
            "-\n",
            "English:  මට ඔයාගෙ උපන්දින උත්සවයට එන්න පුළුවන් වුන එක ගැන සතුටුයි ඒක අමතක වෙන්නැති අත්දැකීමක්\n",
            "Sinhala:  [start] stop right there[end]             in  to  the\n",
            "-\n",
            "English:  පෙන්ග් පෙන්ග්\n",
            "Sinhala:  [start] stop right there[end]               to  \n",
            "-\n",
            "English:  ඔයා පෙන්ග්-පෙන්ග් අතුරුදහන් උන එකට ඔයාටම දොස් කියාගත්තා\n",
            "Sinhala:  [start] stop right there[end]             in  to  the\n",
            "-\n",
            "English:  මට ඔයාගෙ උපන්දින උත්සවයට එන්න පුළුවන් වුන එක ගැන සතුටුයි ඒක අමතක වෙන්නැති අත්දැකීමක්\n",
            "Sinhala:  [start] stop right there[end]             in  to  the\n",
            "-\n",
            "English:  පෙන්ග් පෙන්ග්\n",
            "Sinhala:  [start] stop right there[end]               to  \n",
            "-\n",
            "English:  ඔයා පෙන්ග්-පෙන්ග් අතුරුදහන් උන එකට ඔයාටම දොස් කියාගත්තා\n",
            "Sinhala:  [start] stop right there[end]             in  to  the\n",
            "-\n",
            "English:  පෙන්ග් පෙන්ග්\n",
            "Sinhala:  [start] stop right there[end]               to  \n",
            "-\n",
            "English:  හරි, අපිට දැන් රෙස්ටුරන්ට් එකකට යන්න පුළුවන්.\n",
            "Sinhala:  [start] stop right there[end]             in  to  the\n",
            "-\n",
            "English:  මගේ දුව ඩූ-ඩූ තමයි මට ඉතිරි වෙලා තියෙන්නේ.\n",
            "Sinhala:  [start] stop right there[end]             in  to  the\n",
            "-\n",
            "English:  මගේ දුව ඩූ-ඩූ තමයි මට ඉතිරි වෙලා තියෙන්නේ.\n",
            "Sinhala:  [start] stop right there[end]             in  to  the\n",
            "-\n",
            "English:  ඔයාට ඒක අමුතුයි කියලා හිතෙන්නේ නැද්ද?\n",
            "Sinhala:  [start] stop right there[end]             in  to  the\n",
            "-\n",
            "English:  පෙන්ග් පෙන්ග්\n",
            "Sinhala:  [start] stop right there[end]               to  \n",
            "-\n",
            "English:  ඒත් හුවාන්ග් මින්ග් චෙන්ග් විතරයි දන්නේ\n",
            "Sinhala:  [start] i am not coming[end]            in  to  the\n",
            "-\n",
            "English:  වැරදියට පරිවර්තනය වෙලාද?  දැන්ම අපිට වාර්තා කරන්න\n",
            "Sinhala:  [start] stop right there[end]             in  to  the\n",
            "-\n",
            "English:  වැරදියට පරිවර්තනය වෙලාද?  දැන්ම අපිට වාර්තා කරන්න\n",
            "Sinhala:  [start] stop right there[end]             in  to  the\n",
            "-\n",
            "English:  මේ ජෙන් අක්කේ.\n",
            "Sinhala:  [start] stop right there[end]               to  \n",
            "-\n",
            "English:  අනිවාර්යෙන්ම පෙන්ග්-පෙන්ග් කවුරුහරි පැහැරගෙන.\n",
            "Sinhala:  [start] stop right there[end]             in  to  \n"
          ]
        }
      ]
    },
    {
      "cell_type": "code",
      "source": [
        "import numpy as np\n",
        "\n",
        "# Define the vocabulary and index lookup for Sinhala\n",
        "sin_vocab = target_vectorization.get_vocabulary()\n",
        "sin_index_lookup = dict(zip(range(len(sin_vocab)), sin_vocab))\n",
        "max_decoded_sentence_length = 20\n",
        "\n",
        "def decode_sequence(input_sentence):\n",
        "    tokenized_input_sentence = source_vectorization([input_sentence])\n",
        "    decoded_sentence = \"[start]\"\n",
        "\n",
        "    for i in range(max_decoded_sentence_length):\n",
        "        tokenized_target_sentence = target_vectorization([decoded_sentence])[:, :-1]\n",
        "        predictions = transformer([tokenized_input_sentence, tokenized_target_sentence])\n",
        "        sampled_token_index = np.argmax(predictions[0, i, :])\n",
        "        sampled_token = sin_index_lookup[sampled_token_index]\n",
        "        decoded_sentence += \" \" + sampled_token\n",
        "\n",
        "        if sampled_token == \"[end]\":\n",
        "            break\n",
        "\n",
        "    return decoded_sentence\n",
        "\n",
        "# Get English input from the user\n",
        "input_sentence = input(\"Enter an English sentence: \")\n",
        "\n",
        "# Translate the input sentence to Sinhala\n",
        "translated_sentence = decode_sequence(input_sentence)\n",
        "\n",
        "# Print the translated sentence\n",
        "print(\"Sinhala translation:\", translated_sentence)\n",
        "\n"
      ],
      "metadata": {
        "colab": {
          "base_uri": "https://localhost:8080/"
        },
        "id": "xciMp2Xy1TUh",
        "outputId": "241c6ee5-75ac-47fd-a445-b87126377cc4"
      },
      "execution_count": 40,
      "outputs": [
        {
          "output_type": "stream",
          "name": "stdout",
          "text": [
            "Enter an English sentence: Nice to meet you\n",
            "Sinhala translation: [start] stop right there[end]             in  to  \n"
          ]
        }
      ]
    }
  ]
}